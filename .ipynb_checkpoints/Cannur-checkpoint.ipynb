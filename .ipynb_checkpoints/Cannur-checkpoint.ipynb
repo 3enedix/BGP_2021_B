{
 "cells": [
  {
   "cell_type": "code",
   "execution_count": 4,
   "id": "73458d3d-1812-4c53-924c-cc4f551c5f55",
   "metadata": {},
   "outputs": [
    {
     "data": {
      "text/plain": [
       "<matplotlib.pyplot._IoffContext at 0x7f747b93d0>"
      ]
     },
     "execution_count": 4,
     "metadata": {},
     "output_type": "execute_result"
    }
   ],
   "source": [
    "#%matplotlib inline\n",
    "import matplotlib.pyplot as plt\n",
    "import pandas as pd\n",
    "# Turn interactive plotting off\n",
    "plt.ioff()\n",
    "## pd.options.display.mpl_style='default'"
   ]
  },
  {
   "cell_type": "markdown",
   "id": "0ab29c7a-1203-4813-bde6-ee16af82d5e1",
   "metadata": {},
<<<<<<< HEAD:Untitled Folder/Test.ipynb
   "outputs": [],
   "source": [
    "daaskdiandaiuak\n",
    "vavahvhjajsksandhdnlkx"
=======
   "source": [
    "No!"
>>>>>>> 26d45629ea52d0409353ba572a7d7e15fa8ba1bd:.ipynb_checkpoints/Cannur-checkpoint.ipynb
   ]
  }
 ],
 "metadata": {
  "kernelspec": {
   "display_name": "Python",
   "language": "python",
   "name": "python3"
  },
  "language_info": {
   "codemirror_mode": {
    "name": "ipython",
    "version": 3
   },
   "file_extension": ".py",
   "mimetype": "text/x-python",
   "name": "python",
   "nbconvert_exporter": "python",
   "pygments_lexer": "ipython3",
   "version": "3.8.10"
  }
 },
 "nbformat": 4,
 "nbformat_minor": 5
}
