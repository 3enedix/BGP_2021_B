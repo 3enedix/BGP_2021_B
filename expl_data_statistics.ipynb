{
 "cells": [
  {
   "cell_type": "markdown",
   "id": "00ff7759-cd83-43f0-a0c7-39ebbfa82dc7",
   "metadata": {},
   "source": [
    "Exploratory Data Analysis Part II: Statistics"
   ]
  }
 ],
 "metadata": {
  "kernelspec": {
   "display_name": "Python",
   "language": "python",
   "name": "python3"
  },
  "language_info": {
   "codemirror_mode": {
    "name": "ipython",
    "version": 3
   },
   "file_extension": ".py",
   "mimetype": "text/x-python",
   "name": "python",
   "nbconvert_exporter": "python",
   "pygments_lexer": "ipython3",
   "version": "3.8.10"
  }
 },
 "nbformat": 4,
 "nbformat_minor": 5
}
