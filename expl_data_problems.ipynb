{
 "cells": [
  {
   "cell_type": "markdown",
   "id": "28c02ea1-2c88-4512-ae60-13e736364dd2",
   "metadata": {},
   "source": [
    "Exploratory Data Analysis Part I: Find problems in the data."
   ]
  },
  {
   "cell_type": "code",
   "execution_count": 1,
   "id": "e26eecf4-df88-4ceb-89e7-8ea01c5dff2b",
   "metadata": {},
   "outputs": [],
   "source": [
    "import pandas as pd\n",
    "from dotenv import load_dotenv\n",
    "import os\n",
    "\n",
    "%load_ext sql"
   ]
  },
  {
   "cell_type": "markdown",
   "id": "2043f0e1-23fd-4fb9-912f-f971fcac131b",
   "metadata": {},
   "source": [
    "Establish a connection to the data base\n",
    "\n",
    "Before you run the following cell:\n",
    "\n",
    "Create a text file called .env conataining\n",
    "\n",
    "PGSQL_USER=*USERNAME* \\\n",
    "PGSQL_PASSWORD=*PASSWORD*"
   ]
  },
  {
   "cell_type": "code",
   "execution_count": null,
   "id": "13ba478b-8b38-4fe7-ae40-4077ad7341df",
   "metadata": {},
   "outputs": [],
   "source": [
    "load_dotenv()\n",
    "username = os.getenv('PGSQL_USER')\n",
    "password = os.getenv('PGSQL_PASSWORD')\n",
    "hostname = 'gip.itc.utwente.nl'\n",
    "portname = '5434'\n",
    "databasename = 'c211'\n",
    "\n",
    "%sql postgresql://{username}:{password}@{hostname}:{portname}/{databasename}"
   ]
  }
 ],
 "metadata": {
  "kernelspec": {
   "display_name": "Python",
   "language": "python",
   "name": "python3"
  },
  "language_info": {
   "codemirror_mode": {
    "name": "ipython",
    "version": 3
   },
   "file_extension": ".py",
   "mimetype": "text/x-python",
   "name": "python",
   "nbconvert_exporter": "python",
   "pygments_lexer": "ipython3",
   "version": "3.8.10"
  }
 },
 "nbformat": 4,
 "nbformat_minor": 5
}
