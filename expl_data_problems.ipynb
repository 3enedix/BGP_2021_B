{
 "cells": [
  {
   "cell_type": "markdown",
   "id": "28c02ea1-2c88-4512-ae60-13e736364dd2",
   "metadata": {},
   "source": [
    "Exploratory Data Analysis Part I: Find problems in the data."
   ]
  }
 ],
 "metadata": {
  "kernelspec": {
   "display_name": "Python",
   "language": "python",
   "name": "python3"
  },
  "language_info": {
   "codemirror_mode": {
    "name": "ipython",
    "version": 3
   },
   "file_extension": ".py",
   "mimetype": "text/x-python",
   "name": "python",
   "nbconvert_exporter": "python",
   "pygments_lexer": "ipython3",
   "version": "3.8.10"
  }
 },
 "nbformat": 4,
 "nbformat_minor": 5
}
